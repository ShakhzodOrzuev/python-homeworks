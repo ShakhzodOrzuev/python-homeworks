{
 "cells": [
  {
   "cell_type": "code",
   "execution_count": 9,
   "metadata": {},
   "outputs": [
    {
     "name": "stdout",
     "output_type": "stream",
     "text": [
      "False\n"
     ]
    }
   ],
   "source": [
    "def prime(n):\n",
    "    i = 1\n",
    "    a = 0\n",
    "    while i <= n:\n",
    "        if n % i == 0:\n",
    "            a += 1\n",
    "        else:\n",
    "            pass\n",
    "        i += 1\n",
    "    if a == 2:\n",
    "        print('True')\n",
    "    else: \n",
    "        print('False')\n",
    "prime(12)"
   ]
  }
 ],
 "metadata": {
  "kernelspec": {
   "display_name": "venv",
   "language": "python",
   "name": "python3"
  },
  "language_info": {
   "codemirror_mode": {
    "name": "ipython",
    "version": 3
   },
   "file_extension": ".py",
   "mimetype": "text/x-python",
   "name": "python",
   "nbconvert_exporter": "python",
   "pygments_lexer": "ipython3",
   "version": "3.11.2"
  }
 },
 "nbformat": 4,
 "nbformat_minor": 2
}
