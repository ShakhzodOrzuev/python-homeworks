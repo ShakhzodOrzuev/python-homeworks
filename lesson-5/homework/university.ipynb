{
 "cells": [
  {
   "cell_type": "code",
   "execution_count": 40,
   "metadata": {},
   "outputs": [
    {
     "name": "stdout",
     "output_type": "stream",
     "text": [
      "Total students:  77285\n",
      "Total tuition: $ 271905\n",
      "Student mean:  11040.71\n",
      "Student median:  10566\n",
      "Tuition mean: $ 38843.57\n",
      "Tuition median: $ 39849\n"
     ]
    }
   ],
   "source": [
    "universities = [\n",
    "    ['California Institute of Technology', 2175, 37704],\n",
    "    ['Harvard', 19627, 39849],\n",
    "    ['Massachusetts Institute of Technology', 10566, 40732],\n",
    "    ['Princeton', 7802, 37000],\n",
    "    ['Rice', 5879, 35551],\n",
    "    ['Stanford', 19535, 40569],\n",
    "    ['Yale', 11701, 40500]\n",
    "]\n",
    "Student = []\n",
    "tuition = []\n",
    "for row in universities:\n",
    "        Student.append(row[1])\n",
    "        tuition.append(row[2])\n",
    "def enrollment_stats():\n",
    "    print('Total students: ', sum(Student))\n",
    "    print('Total tuition: $', sum(tuition))\n",
    "def stud():    \n",
    "    Student.sort()\n",
    "    tuition.sort()\n",
    "    if len(Student) % 2 == 1:\n",
    "        i = round(0.5 * len(Student))\n",
    "        median = Student[i-1]\n",
    "    else:\n",
    "        i = round(0.5 * len(Student))\n",
    "        median = (Student[i-1]+ Student[i]) * 0.5\n",
    "    mean = sum(Student)/ len(Student)\n",
    "    print('Student mean: ', round(mean, 2))\n",
    "    print('Student median: ', median)\n",
    "def tui():\n",
    "    tuition.sort()\n",
    "    if len(tuition) % 2 == 1:\n",
    "        i = round(0.5 * len(tuition))\n",
    "        median = tuition[i-1]\n",
    "    else:\n",
    "        i = round(0.5 * len(tuition))\n",
    "        median = (tuition[i-1]+ tuition[i]) * 0.5\n",
    "    mean = sum(tuition)/ len(tuition)\n",
    "    print('Tuition mean: $', round(mean, 2))\n",
    "    print('Tuition median: $', median)\n",
    "\n",
    "enrollment_stats()\n",
    "stud()\n",
    "tui()"
   ]
  },
  {
   "cell_type": "code",
   "execution_count": null,
   "metadata": {},
   "outputs": [],
   "source": []
  }
 ],
 "metadata": {
  "kernelspec": {
   "display_name": "venv",
   "language": "python",
   "name": "python3"
  },
  "language_info": {
   "codemirror_mode": {
    "name": "ipython",
    "version": 3
   },
   "file_extension": ".py",
   "mimetype": "text/x-python",
   "name": "python",
   "nbconvert_exporter": "python",
   "pygments_lexer": "ipython3",
   "version": "3.11.2"
  }
 },
 "nbformat": 4,
 "nbformat_minor": 2
}
