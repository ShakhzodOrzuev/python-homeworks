{
 "cells": [
  {
   "cell_type": "code",
   "execution_count": 1,
   "metadata": {},
   "outputs": [],
   "source": [
    "number_of_employees = int(input('How many new employees do you want to add data to? Please, enter in numbers: '))\n",
    "i = 1\n",
    "while i <= number_of_employees:\n",
    "    Employee_ID = str(input('Employee ID: '))\n",
    "    Name = str(input('Employee name'))\n",
    "    Position = str(input('Employee position: '))\n",
    "    Salary = str(input('salary: '))\n",
    "    with open('employee.txt', \"a\") as f:\n",
    "        f.write(f'{Employee_ID}   {Name}   {Position}   {Salary}\\n')\n",
    "    i = i +1\n",
    "   \n",
    "\n",
    "\n"
   ]
  },
  {
   "cell_type": "code",
   "execution_count": 2,
   "metadata": {},
   "outputs": [
    {
     "name": "stdout",
     "output_type": "stream",
     "text": [
      "11   hakimjon   sartarosh   230\n",
      "12   Oybek   ITichnik   4000\n",
      "1   Sirojiddin   teacher   200\n",
      "2   Hakim   assistant   150\n",
      "3   Doston   bekorchi   500\n"
     ]
    }
   ],
   "source": [
    "with open('employee.txt') as f:\n",
    "    for line in f:\n",
    "        print(line, end='')   "
   ]
  },
  {
   "cell_type": "code",
   "execution_count": 3,
   "metadata": {},
   "outputs": [],
   "source": [
    "searching_ID = input(\"Enter the employee ID you are searching: \")\n",
    "with open(\"employee.txt\", \"r\") as f:\n",
    "    lines = f.readlines()\n",
    "updated_lines = []\n",
    "found = False  \n",
    "for line in lines:\n",
    "    elements_list = line.strip().split()\n",
    "    if elements_list and elements_list[0] == searching_ID:\n",
    "        found = True\n",
    "        update_response = input(\"Do you want to update the data of the employee? (Y/N): \")\n",
    "        if update_response.upper() == 'Y':\n",
    "            Name = input(\"Employee name: \")\n",
    "            Position = input(\"Employee position: \")\n",
    "            Salary = input(\"Salary: \")\n",
    "            new_line = f\"{elements_list[0]}   {Name}   {Position}   {Salary}\\n\"\n",
    "            updated_lines.append(new_line)\n",
    "        else:\n",
    "            updated_lines.append(line)  \n",
    "    else:\n",
    "        updated_lines.append(line)  \n",
    "if not found:\n",
    "    print(\"Employee ID not found!\")\n",
    "with open(\"employee.txt\", \"w\") as f:\n",
    "    f.writelines(updated_lines)"
   ]
  },
  {
   "cell_type": "code",
   "execution_count": 79,
   "metadata": {},
   "outputs": [],
   "source": [
    "deleting_ID = input(\"Enter the employee ID you want to delete: \")\n",
    "with open(\"employee.txt\", \"r\") as f:\n",
    "    lines = f.readlines()\n",
    "updated_lines = []\n",
    "found = False  \n",
    "for line in lines:\n",
    "    elements_list = line.strip().split()\n",
    "    if elements_list and elements_list[0] == deleting_ID:\n",
    "        found = True\n",
    "        delete_response = input(\"Do you want to delete the data of the employee? (Y/N): \")\n",
    "        if delete_response.upper() == 'Y':\n",
    "            pass\n",
    "        else:\n",
    "            updated_lines.append(line)  \n",
    "    else:\n",
    "        updated_lines.append(line)  \n",
    "if not found:\n",
    "    print(\"Employee ID not found!\")\n",
    "with open(\"employee.txt\", \"w\") as f:\n",
    "    f.writelines(updated_lines)"
   ]
  },
  {
   "cell_type": "code",
   "execution_count": 1,
   "metadata": {},
   "outputs": [
    {
     "name": "stdout",
     "output_type": "stream",
     "text": [
      "Exiting the program.\n"
     ]
    },
    {
     "ename": "",
     "evalue": "",
     "output_type": "error",
     "traceback": [
      "\u001b[1;31mThe Kernel crashed while executing code in the current cell or a previous cell. \n",
      "\u001b[1;31mPlease review the code in the cell(s) to identify a possible cause of the failure. \n",
      "\u001b[1;31mClick <a href='https://aka.ms/vscodeJupyterKernelCrash'>here</a> for more info. \n",
      "\u001b[1;31mView Jupyter <a href='command:jupyter.viewOutput'>log</a> for further details."
     ]
    }
   ],
   "source": [
    "\n",
    "print(\"Exiting the program.\")\n",
    "exit()"
   ]
  },
  {
   "cell_type": "code",
   "execution_count": null,
   "metadata": {},
   "outputs": [],
   "source": []
  }
 ],
 "metadata": {
  "kernelspec": {
   "display_name": "Python 3",
   "language": "python",
   "name": "python3"
  },
  "language_info": {
   "codemirror_mode": {
    "name": "ipython",
    "version": 3
   },
   "file_extension": ".py",
   "mimetype": "text/x-python",
   "name": "python",
   "nbconvert_exporter": "python",
   "pygments_lexer": "ipython3",
   "version": "3.11.2"
  }
 },
 "nbformat": 4,
 "nbformat_minor": 2
}
