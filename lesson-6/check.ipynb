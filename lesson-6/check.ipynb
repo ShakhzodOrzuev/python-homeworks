{
 "cells": [
  {
   "cell_type": "code",
   "execution_count": 26,
   "metadata": {},
   "outputs": [
    {
     "name": "stdout",
     "output_type": "stream",
     "text": [
      "2.0\n"
     ]
    }
   ],
   "source": [
    "def check(func):\n",
    "   def wrap(arg, k):\n",
    "      try:\n",
    "         func(arg, k)\n",
    "      except ZeroDivisionError:\n",
    "         print('Cannot be divided')\n",
    "   return wrap\n",
    "\n",
    "a = int(input('1-sonni kirit: '))\n",
    "b = int(input('2-sonni kirit: '))\n",
    "\n",
    "@check\n",
    "def div(a, b):\n",
    "   print(a/b)\n",
    "div(a,b)"
   ]
  },
  {
   "cell_type": "code",
   "execution_count": null,
   "metadata": {},
   "outputs": [],
   "source": []
  },
  {
   "cell_type": "code",
   "execution_count": null,
   "metadata": {},
   "outputs": [],
   "source": []
  }
 ],
 "metadata": {
  "kernelspec": {
   "display_name": "Python 3",
   "language": "python",
   "name": "python3"
  },
  "language_info": {
   "codemirror_mode": {
    "name": "ipython",
    "version": 3
   },
   "file_extension": ".py",
   "mimetype": "text/x-python",
   "name": "python",
   "nbconvert_exporter": "python",
   "pygments_lexer": "ipython3",
   "version": "3.11.2"
  }
 },
 "nbformat": 4,
 "nbformat_minor": 2
}
