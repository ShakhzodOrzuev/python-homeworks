{
 "cells": [
  {
   "cell_type": "code",
   "execution_count": 8,
   "metadata": {},
   "outputs": [
    {
     "name": "stdout",
     "output_type": "stream",
     "text": [
      "['salom', 'xonimlar', 'va', 'janoblar.salom', 'xonimlar', 'va', 'janoblar.salom', 'xonimlar', 'va', 'janoblar.']\n"
     ]
    }
   ],
   "source": [
    "with open('sample.txt', 'r+') as f:\n",
    "    f.write('salom xonimlar va janoblar.')"
   ]
  },
  {
   "cell_type": "code",
   "execution_count": 51,
   "metadata": {},
   "outputs": [
    {
     "name": "stdout",
     "output_type": "stream",
     "text": [
      "['salom', 'xonimlar', 'va', 'janoblar.', 'salom', 'xonimlar', 'va', 'janoblar.']\n",
      "['salom', 'xonimlar', 'va', 'janoblar', 'salom', 'xonimlar', 'va', 'janoblar']\n",
      "Total words in the text:  8\n",
      "[('salom', 2), ('va', 2), ('xonimlar', 2)]\n"
     ]
    }
   ],
   "source": [
    "with open('sample.txt', 'r+') as f:\n",
    "    lines = f.readlines()\n",
    "    for line in lines:\n",
    "        elements_list = line.strip().split()\n",
    "    new_list = []\n",
    "    punctuations = [',', '.', '!', '?', ':', ';']    \n",
    "    print(elements_list)\n",
    "data = []\n",
    "a = ''\n",
    "b = 0\n",
    "tuple1 = (a,b)\n",
    "for item in elements_list:\n",
    "    item = item.lower()\n",
    "    for i in item:\n",
    "        if i in punctuations:\n",
    "            item = item.replace(i,'')\n",
    "        else: pass\n",
    "    new_list.append(item)\n",
    "print(new_list)\n",
    "print('Total words in the text: ', len(new_list))\n",
    "for item in new_list:\n",
    "    counts = new_list.count(item)\n",
    "    tuple1 = (item,counts)\n",
    "    data.append(tuple1)\n",
    "    for i in range(counts):\n",
    "        new_list.remove(item)\n",
    "\n",
    "print(data)\n",
    "\n",
    "\n",
    "\n",
    "    \n",
    "    \n",
    "\n",
    "\n",
    "\n",
    "\n",
    "\n",
    "\n",
    "\n"
   ]
  },
  {
   "cell_type": "code",
   "execution_count": 10,
   "metadata": {},
   "outputs": [
    {
     "name": "stdout",
     "output_type": "stream",
     "text": [
      "['salom', 'xonimlar', 'va', 'janoblar.salom', 'xonimlar', 'va', 'janoblar.salom', 'xonimlar', 'va', 'janoblar.']\n"
     ]
    }
   ],
   "source": []
  },
  {
   "cell_type": "code",
   "execution_count": 37,
   "metadata": {},
   "outputs": [
    {
     "name": "stdout",
     "output_type": "stream",
     "text": [
      "[('this', 2), ('sample', 2), ('text', 2), ('some', 2), ('words', 2)]\n"
     ]
    }
   ],
   "source": [
    "from collections import Counter\n",
    "import re\n",
    "\n",
    "def top_words(text, n=5):\n",
    "    words = re.findall(r'\\b\\w+\\b', text.lower())  # Extract words and convert to lowercase\n",
    "    word_counts = Counter(words)  # Count occurrences\n",
    "    return word_counts.most_common(n)  # Get top n words\n",
    "\n",
    "# Example usage\n",
    "text = \"This is a sample text. This text has some sample words, and some words repeat.\"\n",
    "top_5 = top_words(text)\n",
    "print(top_5)\n"
   ]
  },
  {
   "cell_type": "code",
   "execution_count": null,
   "metadata": {},
   "outputs": [],
   "source": []
  }
 ],
 "metadata": {
  "kernelspec": {
   "display_name": "Python 3",
   "language": "python",
   "name": "python3"
  },
  "language_info": {
   "codemirror_mode": {
    "name": "ipython",
    "version": 3
   },
   "file_extension": ".py",
   "mimetype": "text/x-python",
   "name": "python",
   "nbconvert_exporter": "python",
   "pygments_lexer": "ipython3",
   "version": "3.11.2"
  }
 },
 "nbformat": 4,
 "nbformat_minor": 2
}
