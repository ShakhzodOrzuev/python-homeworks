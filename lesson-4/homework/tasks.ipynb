{
 "cells": [
  {
   "cell_type": "code",
   "execution_count": 53,
   "metadata": {},
   "outputs": [
    {
     "name": "stdout",
     "output_type": "stream",
     "text": [
      "[1, 1, 3, 4]\n"
     ]
    }
   ],
   "source": [
    "#task1. Return uncommon elements of lists. Order of elements does not matter.\n",
    "list1 = [1, 1, 2]\n",
    "list2 = [2, 3, 4]\n",
    "list3 = []\n",
    "\n",
    "for i in range(len(list1)):\n",
    "    if list1[i] in list2:\n",
    "        pass\n",
    "    else: list3.append(list1[i])\n",
    "\n",
    "for j in range(len(list2)):\n",
    "    if list2[j] in list1:\n",
    "        pass\n",
    "    else: list3.append(list2[j])\n",
    "\n",
    "print(list3)"
   ]
  },
  {
   "cell_type": "code",
   "execution_count": 54,
   "metadata": {},
   "outputs": [
    {
     "name": "stdout",
     "output_type": "stream",
     "text": [
      "[1, 2, 3, 4, 5, 6]\n"
     ]
    }
   ],
   "source": [
    "list1 = [1, 2, 3]\n",
    "list2 = [4, 5, 6]\n",
    "list3 = []\n",
    "for i in range(len(list1)):\n",
    "    if list1[i] in list2:\n",
    "        pass\n",
    "    else: list3.append(list1[i])\n",
    "\n",
    "for j in range(len(list2)):\n",
    "    if list2[j] in list1:\n",
    "        pass\n",
    "    else: list3.append(list2[j])\n",
    "\n",
    "print(list3)"
   ]
  },
  {
   "cell_type": "code",
   "execution_count": 55,
   "metadata": {},
   "outputs": [
    {
     "name": "stdout",
     "output_type": "stream",
     "text": [
      "[2, 2, 5]\n"
     ]
    }
   ],
   "source": [
    "list1 = [1, 1, 2, 3, 4, 2]\n",
    "list2 = [1, 3, 4, 5]\n",
    "list3 = []\n",
    "for i in range(len(list1)):\n",
    "    if list1[i] in list2:\n",
    "        pass\n",
    "    else: list3.append(list1[i])\n",
    "\n",
    "for j in range(len(list2)):\n",
    "    if list2[j] in list1:\n",
    "        pass\n",
    "    else: list3.append(list2[j])\n",
    "\n",
    "print(list3)"
   ]
  },
  {
   "cell_type": "code",
   "execution_count": 158,
   "metadata": {},
   "outputs": [
    {
     "name": "stdout",
     "output_type": "stream",
     "text": [
      "1\n",
      "4\n",
      "9\n",
      "16\n",
      "25\n"
     ]
    }
   ],
   "source": [
    "#task2\n",
    "n = 6\n",
    "i =1\n",
    "while i < n:\n",
    "    print(i*i)\n",
    "    i +=1"
   ]
  },
  {
   "cell_type": "code",
   "execution_count": 177,
   "metadata": {},
   "outputs": [
    {
     "name": "stdout",
     "output_type": "stream",
     "text": [
      "abc_abcd_abcdeab_cdef_abcdefg\n"
     ]
    }
   ],
   "source": [
    "#task3\n",
    "text1 = \"abcabcdabcdeabcdefabcdefg\"\n",
    "i = 2\n",
    "list_unli = ['a', 'o', 'e', 'u', 'i']\n",
    "while i < len(text1):\n",
    "\n",
    "    if text1[i] in list_unli:\n",
    "        i +=1\n",
    "    elif text1[i] + '_' in text1: i= i + 1\n",
    "    elif i+1 == len(text1): break\n",
    "    else: text1 = text1[:i+1] + '_' + text1[i+1:]; i= i + 4\n",
    "print(text1)"
   ]
  },
  {
   "cell_type": "code",
   "execution_count": 18,
   "metadata": {},
   "outputs": [
    {
     "name": "stdout",
     "output_type": "stream",
     "text": [
      "2\n",
      "3\n",
      "5\n",
      "7\n",
      "11\n",
      "13\n",
      "17\n",
      "19\n",
      "23\n",
      "29\n",
      "31\n",
      "37\n",
      "41\n",
      "43\n",
      "47\n",
      "53\n",
      "59\n",
      "61\n",
      "67\n",
      "71\n",
      "73\n",
      "79\n",
      "83\n",
      "89\n",
      "97\n"
     ]
    }
   ],
   "source": [
    "#task6\n",
    "i = 2\n",
    "for i in range(2, 100):\n",
    "    j = 2\n",
    "    a = 0\n",
    "    for j in range(2, 100):\n",
    "        if i%j == 0: \n",
    "            a += 1\n",
    "        else: \n",
    "            pass\n",
    "        j += 1\n",
    "    if a == 1:\n",
    "        print(i)\n",
    "    else:\n",
    "        pass\n",
    "    i += 1\n",
    "\n",
    "\n",
    "           \n"
   ]
  },
  {
   "cell_type": "code",
   "execution_count": 47,
   "metadata": {},
   "outputs": [
    {
     "name": "stdout",
     "output_type": "stream",
     "text": [
      "2\n",
      "3\n",
      "5\n",
      "7\n",
      "11\n",
      "13\n",
      "17\n",
      "19\n",
      "23\n",
      "29\n",
      "31\n",
      "37\n",
      "41\n",
      "43\n",
      "47\n",
      "53\n",
      "59\n",
      "61\n",
      "67\n",
      "71\n",
      "73\n",
      "79\n",
      "83\n",
      "89\n",
      "97\n"
     ]
    }
   ],
   "source": [
    "\n",
    "#task6 takomillashgan versiyasi.\n",
    "import math\n",
    "i = 2\n",
    "for i in range(2, 100):\n",
    "    j = 1\n",
    "    a = 0\n",
    "    for j in range(1, int(math.sqrt(i))+1 ):\n",
    "        if i%j == 0: \n",
    "            a += 1\n",
    "        else: \n",
    "            pass\n",
    "        j += 1\n",
    "    if a == 1:\n",
    "        print(i)\n",
    "    else:\n",
    "        pass\n",
    "    i += 1\n"
   ]
  },
  {
   "cell_type": "code",
   "execution_count": 5,
   "metadata": {},
   "outputs": [
    {
     "name": "stdout",
     "output_type": "stream",
     "text": [
      "<class 'int'>\n"
     ]
    }
   ],
   "source": []
  },
  {
   "cell_type": "code",
   "execution_count": 46,
   "metadata": {},
   "outputs": [
    {
     "name": "stdout",
     "output_type": "stream",
     "text": [
      "1\n"
     ]
    }
   ],
   "source": []
  },
  {
   "cell_type": "code",
   "execution_count": 56,
   "metadata": {},
   "outputs": [
    {
     "data": {
      "text/plain": [
       "5"
      ]
     },
     "execution_count": 56,
     "metadata": {},
     "output_type": "execute_result"
    }
   ],
   "source": []
  },
  {
   "cell_type": "code",
   "execution_count": null,
   "metadata": {},
   "outputs": [],
   "source": []
  }
 ],
 "metadata": {
  "kernelspec": {
   "display_name": "venv",
   "language": "python",
   "name": "python3"
  },
  "language_info": {
   "codemirror_mode": {
    "name": "ipython",
    "version": 3
   },
   "file_extension": ".py",
   "mimetype": "text/x-python",
   "name": "python",
   "nbconvert_exporter": "python",
   "pygments_lexer": "ipython3",
   "version": "3.11.2"
  }
 },
 "nbformat": 4,
 "nbformat_minor": 2
}
